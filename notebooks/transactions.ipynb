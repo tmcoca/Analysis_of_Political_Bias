{
 "cells": [
  {
   "cell_type": "code",
   "execution_count": 1,
   "id": "f2262518",
   "metadata": {},
   "outputs": [],
   "source": [
    "import pandas as pd\n",
    "import requests\n",
    "from bs4 import BeautifulSoup as BS\n",
    "from IPython.core.display import HTML\n",
    "import matplotlib.pyplot as plt\n",
    "from IPython.display import Image\n",
    "from tqdm.notebook import tqdm\n",
    "%matplotlib inline"
   ]
  },
  {
   "cell_type": "markdown",
   "id": "fb3d9e54",
   "metadata": {},
   "source": [
    "# Stock Categorization"
   ]
  },
  {
   "cell_type": "code",
   "execution_count": 28,
   "id": "6fe5073b",
   "metadata": {},
   "outputs": [],
   "source": [
    "sector_urls = ['basic-materials/','communication-services/','consumer-cyclical/','consumer-defensive/','energy/','financial-services/','healthcare/','industrials/','technology/','utilities/']"
   ]
  },
  {
   "cell_type": "code",
   "execution_count": 29,
   "id": "91cbe846",
   "metadata": {},
   "outputs": [
    {
     "data": {
      "application/vnd.jupyter.widget-view+json": {
       "model_id": "da2209e202294588b44bae9a69c83f46",
       "version_major": 2,
       "version_minor": 0
      },
      "text/plain": [
       "  0%|          | 0/10 [00:00<?, ?it/s]"
      ]
     },
     "metadata": {},
     "output_type": "display_data"
    },
    {
     "name": "stdout",
     "output_type": "stream",
     "text": [
      "basic_materials: DONE\n",
      "communication_services: DONE\n",
      "consumer_cyclical: DONE\n",
      "consumer_defensive: DONE\n",
      "energy: DONE\n",
      "financial_services: DONE\n",
      "healthcare: DONE\n",
      "industrials: DONE\n",
      "technology: DONE\n",
      "utilities: DONE\n"
     ]
    }
   ],
   "source": [
    "for sector_url in tqdm(sector_urls):\n",
    "    response = requests.get(f'https://www.stockmonitor.com/sector/{sector_url}')\n",
    "    soup = BS(response.text)\n",
    "    sector_name = sector_url.replace('/','').replace('-','_')\n",
    "    globals()[f'{sector_name}'] = pd.read_html(str(soup.find('table', attrs={'class':'table table-hover top-stocks'})))[0].drop(columns=['Change%','Volume','Low','High','Price']).rename(columns={'Company':'Ticker','Company.1':'Company'})\n",
    "    print(f'{sector_name}: DONE')"
   ]
  },
  {
   "cell_type": "code",
   "execution_count": 26,
   "id": "93f002c0",
   "metadata": {},
   "outputs": [],
   "source": [
    "policy_list = ['Health',\n",
    " 'Armed Forces and National Security',\n",
    " 'Taxation',\n",
    " 'Government Operations and Politics',\n",
    " 'International Affairs',\n",
    " 'Crime and Law Enforcement',\n",
    " 'Public Lands and Natural Resources',\n",
    " 'Education',\n",
    " 'Congress',\n",
    " 'Transportation and Public Works',\n",
    " 'Foreign Trade and International Finance',\n",
    " 'Finance and Financial Sector',\n",
    " 'Commerce',\n",
    " 'Labor and Employment',\n",
    " 'Immigration',\n",
    " 'Energy',\n",
    " 'Environmental Protection',\n",
    " 'Science, Technology, Communications',\n",
    " 'Agriculture and Food',\n",
    " 'Economics and Public Finance',\n",
    " 'Social Welfare',\n",
    " 'Housing and Community Development',\n",
    " 'Native Americans',\n",
    " 'Emergency Management',\n",
    " 'Civil Rights and Liberties, Minority Issues',\n",
    " 'Law',\n",
    " 'Water Resources Development',\n",
    " 'Sports and Recreation',\n",
    " 'Families',\n",
    " 'Animals',\n",
    " 'Arts, Culture, Religion']"
   ]
  },
  {
   "cell_type": "code",
   "execution_count": 27,
   "id": "a1989baf",
   "metadata": {},
   "outputs": [
    {
     "data": {
      "text/plain": [
       "['Health',\n",
       " 'Armed Forces and National Security',\n",
       " 'Taxation',\n",
       " 'Government Operations and Politics',\n",
       " 'International Affairs',\n",
       " 'Crime and Law Enforcement',\n",
       " 'Public Lands and Natural Resources',\n",
       " 'Education',\n",
       " 'Congress',\n",
       " 'Transportation and Public Works',\n",
       " 'Foreign Trade and International Finance',\n",
       " 'Finance and Financial Sector',\n",
       " 'Commerce',\n",
       " 'Labor and Employment',\n",
       " 'Immigration',\n",
       " 'Energy',\n",
       " 'Environmental Protection',\n",
       " 'Science, Technology, Communications',\n",
       " 'Agriculture and Food',\n",
       " 'Economics and Public Finance',\n",
       " 'Social Welfare',\n",
       " 'Housing and Community Development',\n",
       " 'Native Americans',\n",
       " 'Emergency Management',\n",
       " 'Civil Rights and Liberties, Minority Issues',\n",
       " 'Law',\n",
       " 'Water Resources Development',\n",
       " 'Sports and Recreation',\n",
       " 'Families',\n",
       " 'Animals',\n",
       " 'Arts, Culture, Religion']"
      ]
     },
     "execution_count": 27,
     "metadata": {},
     "output_type": "execute_result"
    }
   ],
   "source": [
    "policy_list"
   ]
  },
  {
   "cell_type": "code",
   "execution_count": 30,
   "id": "63e2497a",
   "metadata": {
    "scrolled": true
   },
   "outputs": [],
   "source": [
    "basic_materials['Sector'] = 'Basic Materials'\n",
    "communication_services['Sector'] = 'Communication Services'\n",
    "consumer_defensive['Sector'] = 'Consumer Defensive'\n",
    "consumer_cyclical['Sector'] = 'Consumer Cyclical'\n",
    "energy['Sector'] = 'Energy'\n",
    "financial_services['Sector'] = 'Financial Services'\n",
    "healthcare['Sector'] = 'Healthcare'\n",
    "industrials['Sector'] = 'Industrials'\n",
    "technology['Sector'] = 'Technology'\n",
    "utilities['Sector'] = 'Utilities'"
   ]
  },
  {
   "cell_type": "code",
   "execution_count": 31,
   "id": "8d1de7a1",
   "metadata": {},
   "outputs": [],
   "source": [
    "all_sectors = pd.concat([basic_materials,communication_services,consumer_cyclical,consumer_defensive,energy,financial_services,healthcare,industrials,technology,utilities])"
   ]
  },
  {
   "cell_type": "code",
   "execution_count": 32,
   "id": "0d441d5a",
   "metadata": {},
   "outputs": [
    {
     "data": {
      "text/html": [
       "<div>\n",
       "<style scoped>\n",
       "    .dataframe tbody tr th:only-of-type {\n",
       "        vertical-align: middle;\n",
       "    }\n",
       "\n",
       "    .dataframe tbody tr th {\n",
       "        vertical-align: top;\n",
       "    }\n",
       "\n",
       "    .dataframe thead th {\n",
       "        text-align: right;\n",
       "    }\n",
       "</style>\n",
       "<table border=\"1\" class=\"dataframe\">\n",
       "  <thead>\n",
       "    <tr style=\"text-align: right;\">\n",
       "      <th></th>\n",
       "      <th>Ticker</th>\n",
       "      <th>Company</th>\n",
       "      <th>Sector</th>\n",
       "    </tr>\n",
       "  </thead>\n",
       "  <tbody>\n",
       "    <tr>\n",
       "      <th>0</th>\n",
       "      <td>FEAM</td>\n",
       "      <td>5E Advanced Materials Inc</td>\n",
       "      <td>Basic Materials</td>\n",
       "    </tr>\n",
       "    <tr>\n",
       "      <th>1</th>\n",
       "      <td>ASIX</td>\n",
       "      <td>AdvanSix Inc</td>\n",
       "      <td>Basic Materials</td>\n",
       "    </tr>\n",
       "    <tr>\n",
       "      <th>2</th>\n",
       "      <td>AEM</td>\n",
       "      <td>Agnico Eagle Mines Limited</td>\n",
       "      <td>Basic Materials</td>\n",
       "    </tr>\n",
       "    <tr>\n",
       "      <th>3</th>\n",
       "      <td>APD</td>\n",
       "      <td>Air Products and Chemicals, Inc</td>\n",
       "      <td>Basic Materials</td>\n",
       "    </tr>\n",
       "    <tr>\n",
       "      <th>4</th>\n",
       "      <td>AGI</td>\n",
       "      <td>Alamos Gold Inc</td>\n",
       "      <td>Basic Materials</td>\n",
       "    </tr>\n",
       "    <tr>\n",
       "      <th>...</th>\n",
       "      <td>...</td>\n",
       "      <td>...</td>\n",
       "      <td>...</td>\n",
       "    </tr>\n",
       "    <tr>\n",
       "      <th>6104</th>\n",
       "      <td>VIA</td>\n",
       "      <td>Via Renewables Inc - Class A</td>\n",
       "      <td>Utilities</td>\n",
       "    </tr>\n",
       "    <tr>\n",
       "      <th>6105</th>\n",
       "      <td>VWTR</td>\n",
       "      <td>Vidler Water Resources Inc</td>\n",
       "      <td>Utilities</td>\n",
       "    </tr>\n",
       "    <tr>\n",
       "      <th>6106</th>\n",
       "      <td>VST</td>\n",
       "      <td>Vistra Energy Corp</td>\n",
       "      <td>Utilities</td>\n",
       "    </tr>\n",
       "    <tr>\n",
       "      <th>6107</th>\n",
       "      <td>WEC</td>\n",
       "      <td>WEC Energy Group, Inc</td>\n",
       "      <td>Utilities</td>\n",
       "    </tr>\n",
       "    <tr>\n",
       "      <th>6108</th>\n",
       "      <td>XEL</td>\n",
       "      <td>Xcel Energy Inc</td>\n",
       "      <td>Utilities</td>\n",
       "    </tr>\n",
       "  </tbody>\n",
       "</table>\n",
       "<p>6109 rows × 3 columns</p>\n",
       "</div>"
      ],
      "text/plain": [
       "     Ticker                          Company           Sector\n",
       "0      FEAM        5E Advanced Materials Inc  Basic Materials\n",
       "1      ASIX                     AdvanSix Inc  Basic Materials\n",
       "2       AEM       Agnico Eagle Mines Limited  Basic Materials\n",
       "3       APD  Air Products and Chemicals, Inc  Basic Materials\n",
       "4       AGI                  Alamos Gold Inc  Basic Materials\n",
       "...     ...                              ...              ...\n",
       "6104    VIA     Via Renewables Inc - Class A        Utilities\n",
       "6105   VWTR       Vidler Water Resources Inc        Utilities\n",
       "6106    VST               Vistra Energy Corp        Utilities\n",
       "6107    WEC            WEC Energy Group, Inc        Utilities\n",
       "6108    XEL                  Xcel Energy Inc        Utilities\n",
       "\n",
       "[6109 rows x 3 columns]"
      ]
     },
     "execution_count": 32,
     "metadata": {},
     "output_type": "execute_result"
    }
   ],
   "source": [
    "all_sectors.reset_index().drop(columns=['index'])"
   ]
  },
  {
   "cell_type": "code",
   "execution_count": 39,
   "id": "ab84b3c7",
   "metadata": {},
   "outputs": [],
   "source": [
    "all_sectors.to_csv('all_sectors.csv')"
   ]
  },
  {
   "cell_type": "code",
   "execution_count": null,
   "id": "7d8fbfe6",
   "metadata": {},
   "outputs": [],
   "source": []
  }
 ],
 "metadata": {
  "kernelspec": {
   "display_name": "Python 3 (ipykernel)",
   "language": "python",
   "name": "python3"
  },
  "language_info": {
   "codemirror_mode": {
    "name": "ipython",
    "version": 3
   },
   "file_extension": ".py",
   "mimetype": "text/x-python",
   "name": "python",
   "nbconvert_exporter": "python",
   "pygments_lexer": "ipython3",
   "version": "3.9.7"
  }
 },
 "nbformat": 4,
 "nbformat_minor": 5
}
